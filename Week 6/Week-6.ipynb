{
 "cells": [
  {
   "cell_type": "markdown",
   "id": "e6e992e3-74a2-4eda-b65a-02ede690c0c3",
   "metadata": {},
   "source": [
    "# Week 6 Practice"
   ]
  },
  {
   "cell_type": "markdown",
   "id": "f30665e6-7869-4e8f-84a0-bf5da27e6177",
   "metadata": {},
   "source": [
    "## Question 1"
   ]
  },
  {
   "cell_type": "markdown",
   "id": "0705effc-929e-4f03-8790-e67e71d13438",
   "metadata": {},
   "source": [
    "Linear Regression\n",
    "\n",
    "1. Preprocess Test data and get predictions\n",
    "\n",
    "2. Compute Mean Abolute Error, Mean Square error for test data\n",
    "                                                \n",
    "3. Implement Ridge and Lasso Regression and then compute the following metrics on test data"
   ]
  },
  {
   "cell_type": "code",
   "execution_count": 1,
   "id": "4f9b3c07-c0d3-4ec0-a351-4a1a76ccac91",
   "metadata": {},
   "outputs": [],
   "source": [
    "#Libraries\n",
    "import pandas as pd\n",
    "import numpy as np\n",
    "import seaborn as sns\n",
    "import matplotlib.pyplot as plt\n",
    "\n",
    "from sklearn.preprocessing import OneHotEncoder, StandardScaler\n",
    "from sklearn.model_selection import train_test_split\n",
    "\n",
    "from sklearn.linear_model import LinearRegression, Ridge, Lasso\n",
    "from sklearn.metrics import mean_absolute_error, mean_squared_error\n",
    "\n",
    "from sklearn.tree import DecisionTreeRegressor\n",
    "from sklearn.ensemble import RandomForestRegressor\n",
    "\n",
    "\n",
    "import warnings\n",
    "warnings.filterwarnings('ignore')\n",
    "pd.set_option(\"display.max_columns\", 101)"
   ]
  },
  {
   "cell_type": "code",
   "execution_count": 2,
   "id": "3051a480-6eae-4044-8396-31f09ef62f68",
   "metadata": {},
   "outputs": [],
   "source": [
    "# Dataset is already loaded below\n",
    "data = pd.read_csv(\"train.csv\")"
   ]
  },
  {
   "cell_type": "code",
   "execution_count": 3,
   "id": "179b01d2-a2e2-46f1-98dc-3498ed9cd36c",
   "metadata": {},
   "outputs": [],
   "source": [
    "# drop id, timestamp and country columns\n",
    "data = data.drop(columns=['id', 'timestamp','country'])"
   ]
  },
  {
   "cell_type": "code",
   "execution_count": 4,
   "id": "c77fe2dd-402e-4d45-813a-547f7640056b",
   "metadata": {},
   "outputs": [],
   "source": [
    "# replace NANs in hours_per_week with median value of the column  \n",
    "data.loc[data['hours_per_week'].isna(), 'hours_per_week'] = data['hours_per_week'].median()\n",
    "data.loc[data['telecommute_days_per_week'].isna(), 'telecommute_days_per_week'] = data['telecommute_days_per_week']"
   ]
  },
  {
   "cell_type": "code",
   "execution_count": 5,
   "id": "5124a2b0-6901-4610-b899-c5d16d63ecec",
   "metadata": {},
   "outputs": [],
   "source": [
    "#Handling null values in categorical columns\n",
    "data = data.dropna()"
   ]
  },
  {
   "cell_type": "code",
   "execution_count": 6,
   "id": "663c1f1c-ebd8-49ef-9650-043cb267a446",
   "metadata": {},
   "outputs": [
    {
     "data": {
      "text/html": [
       "<div>\n",
       "<style scoped>\n",
       "    .dataframe tbody tr th:only-of-type {\n",
       "        vertical-align: middle;\n",
       "    }\n",
       "\n",
       "    .dataframe tbody tr th {\n",
       "        vertical-align: top;\n",
       "    }\n",
       "\n",
       "    .dataframe thead th {\n",
       "        text-align: right;\n",
       "    }\n",
       "</style>\n",
       "<table border=\"1\" class=\"dataframe\">\n",
       "  <thead>\n",
       "    <tr style=\"text-align: right;\">\n",
       "      <th></th>\n",
       "      <th>employment_status</th>\n",
       "      <th>job_title</th>\n",
       "      <th>job_years</th>\n",
       "      <th>is_manager</th>\n",
       "      <th>hours_per_week</th>\n",
       "      <th>telecommute_days_per_week</th>\n",
       "      <th>education</th>\n",
       "      <th>is_education_computer_related</th>\n",
       "      <th>certifications</th>\n",
       "      <th>salary</th>\n",
       "    </tr>\n",
       "  </thead>\n",
       "  <tbody>\n",
       "    <tr>\n",
       "      <th>0</th>\n",
       "      <td>Full time</td>\n",
       "      <td>Developer</td>\n",
       "      <td>4.78393</td>\n",
       "      <td>Yes</td>\n",
       "      <td>40.0</td>\n",
       "      <td>0.0</td>\n",
       "      <td>Bachelors (4 years)</td>\n",
       "      <td>Yes</td>\n",
       "      <td>No</td>\n",
       "      <td>7187.743094</td>\n",
       "    </tr>\n",
       "    <tr>\n",
       "      <th>1</th>\n",
       "      <td>Full time</td>\n",
       "      <td>DBA</td>\n",
       "      <td>5.00000</td>\n",
       "      <td>No</td>\n",
       "      <td>40.0</td>\n",
       "      <td>5.0</td>\n",
       "      <td>Bachelors (4 years)</td>\n",
       "      <td>Yes</td>\n",
       "      <td>No</td>\n",
       "      <td>10000.000000</td>\n",
       "    </tr>\n",
       "    <tr>\n",
       "      <th>2</th>\n",
       "      <td>Full time</td>\n",
       "      <td>DBA</td>\n",
       "      <td>1.00000</td>\n",
       "      <td>No</td>\n",
       "      <td>40.0</td>\n",
       "      <td>0.0</td>\n",
       "      <td>Masters</td>\n",
       "      <td>Yes</td>\n",
       "      <td>Yes</td>\n",
       "      <td>7000.000000</td>\n",
       "    </tr>\n",
       "    <tr>\n",
       "      <th>3</th>\n",
       "      <td>Full time</td>\n",
       "      <td>DBA</td>\n",
       "      <td>1.00000</td>\n",
       "      <td>No</td>\n",
       "      <td>40.0</td>\n",
       "      <td>2.0</td>\n",
       "      <td>Bachelors (4 years)</td>\n",
       "      <td>No</td>\n",
       "      <td>No</td>\n",
       "      <td>8333.000000</td>\n",
       "    </tr>\n",
       "    <tr>\n",
       "      <th>4</th>\n",
       "      <td>Full time</td>\n",
       "      <td>Developer</td>\n",
       "      <td>3.00000</td>\n",
       "      <td>No</td>\n",
       "      <td>40.0</td>\n",
       "      <td>2.0</td>\n",
       "      <td>Masters</td>\n",
       "      <td>Yes</td>\n",
       "      <td>Yes</td>\n",
       "      <td>7137.000000</td>\n",
       "    </tr>\n",
       "  </tbody>\n",
       "</table>\n",
       "</div>"
      ],
      "text/plain": [
       "  employment_status  job_title  job_years is_manager  hours_per_week  \\\n",
       "0         Full time  Developer    4.78393        Yes            40.0   \n",
       "1         Full time        DBA    5.00000         No            40.0   \n",
       "2         Full time        DBA    1.00000         No            40.0   \n",
       "3         Full time        DBA    1.00000         No            40.0   \n",
       "4         Full time  Developer    3.00000         No            40.0   \n",
       "\n",
       "   telecommute_days_per_week            education  \\\n",
       "0                        0.0  Bachelors (4 years)   \n",
       "1                        5.0  Bachelors (4 years)   \n",
       "2                        0.0              Masters   \n",
       "3                        2.0  Bachelors (4 years)   \n",
       "4                        2.0              Masters   \n",
       "\n",
       "  is_education_computer_related certifications        salary  \n",
       "0                           Yes             No   7187.743094  \n",
       "1                           Yes             No  10000.000000  \n",
       "2                           Yes            Yes   7000.000000  \n",
       "3                            No             No   8333.000000  \n",
       "4                           Yes            Yes   7137.000000  "
      ]
     },
     "execution_count": 6,
     "metadata": {},
     "output_type": "execute_result"
    }
   ],
   "source": [
    "# create another copy of dataset and append encoded features to it\n",
    "data_train = data.copy()\n",
    "data_train.head()"
   ]
  },
  {
   "cell_type": "code",
   "execution_count": 7,
   "id": "4a94daba-03bc-4a0f-8835-64bf9453b129",
   "metadata": {},
   "outputs": [
    {
     "data": {
      "text/plain": [
       "['employment_status',\n",
       " 'job_title',\n",
       " 'education',\n",
       " 'is_education_computer_related']"
      ]
     },
     "execution_count": 7,
     "metadata": {},
     "output_type": "execute_result"
    }
   ],
   "source": [
    "# select categorical features\n",
    "cat_cols = [c for c in data_train.columns if data_train[c].dtype == 'object' \n",
    "            and c not in ['is_manager', 'certifications']]\n",
    "cat_data = data_train[cat_cols]\n",
    "cat_cols"
   ]
  },
  {
   "cell_type": "code",
   "execution_count": 8,
   "id": "256bcb91-21c2-4f5b-91a2-2eb47fc25df1",
   "metadata": {},
   "outputs": [],
   "source": [
    "#Encoding binary variables\n",
    "binary_cols = ['is_manager', 'certifications']\n",
    "for c in binary_cols:\n",
    "    data_train[c] = data_train[c].replace(to_replace=['Yes'], value=1)\n",
    "    data_train[c] = data_train[c].replace(to_replace=['No'], value=0)"
   ]
  },
  {
   "cell_type": "code",
   "execution_count": 9,
   "id": "2f5a2fab-34b0-4aea-be36-f67200cdc533",
   "metadata": {},
   "outputs": [
    {
     "data": {
      "text/plain": [
       "(4251, 25)"
      ]
     },
     "execution_count": 9,
     "metadata": {},
     "output_type": "execute_result"
    }
   ],
   "source": [
    "final_data = pd.get_dummies(data_train, columns=cat_cols, drop_first= True)\n",
    "final_data.shape"
   ]
  },
  {
   "cell_type": "code",
   "execution_count": 10,
   "id": "b7765ff0-39de-4b5e-8799-f021e3079ae5",
   "metadata": {},
   "outputs": [
    {
     "data": {
      "text/plain": [
       "Index(['job_years', 'is_manager', 'hours_per_week',\n",
       "       'telecommute_days_per_week', 'certifications', 'salary',\n",
       "       'employment_status_Independent or freelancer or company owner',\n",
       "       'employment_status_Part time', 'job_title_Analytics consultant',\n",
       "       'job_title_Architect', 'job_title_DBA', 'job_title_Data Scientist',\n",
       "       'job_title_Developer', 'job_title_Engineer', 'job_title_Manager',\n",
       "       'job_title_Other', 'job_title_Principal database engineer',\n",
       "       'job_title_Sales', 'job_title_Sr Consultant ',\n",
       "       'education_Bachelors (4 years)', 'education_Doctorate/PhD',\n",
       "       'education_Masters', 'education_None (no degree completed)',\n",
       "       'is_education_computer_related_Unknown',\n",
       "       'is_education_computer_related_Yes'],\n",
       "      dtype='object')"
      ]
     },
     "execution_count": 10,
     "metadata": {},
     "output_type": "execute_result"
    }
   ],
   "source": [
    "final_data.columns"
   ]
  },
  {
   "cell_type": "code",
   "execution_count": 11,
   "id": "a71a8bd2-7ded-4cf1-98fa-a3964a00dbb5",
   "metadata": {},
   "outputs": [
    {
     "name": "stdout",
     "output_type": "stream",
     "text": [
      "Training Set Dimensions: (2975, 24)\n",
      "Validation Set Dimensions: (1276, 24)\n"
     ]
    }
   ],
   "source": [
    "y = final_data['salary']\n",
    "X = final_data.drop(columns=['salary'])\n",
    "\n",
    "X_train, X_test, y_train, y_test = train_test_split(X, y, test_size=0.3)\n",
    "print(\"Training Set Dimensions:\", X_train.shape)\n",
    "print(\"Validation Set Dimensions:\", X_test.shape)"
   ]
  },
  {
   "cell_type": "code",
   "execution_count": 12,
   "id": "7ad45862-9449-42ab-b6f5-d716123bc204",
   "metadata": {},
   "outputs": [
    {
     "data": {
      "text/plain": [
       "['job_years', 'hours_per_week', 'telecommute_days_per_week']"
      ]
     },
     "execution_count": 12,
     "metadata": {},
     "output_type": "execute_result"
    }
   ],
   "source": [
    "# select numerical features\n",
    "num_cols = ['job_years','hours_per_week','telecommute_days_per_week']\n",
    "num_cols"
   ]
  },
  {
   "cell_type": "code",
   "execution_count": 13,
   "id": "f66e2c7a-429b-467a-931e-e4ca80e1909a",
   "metadata": {},
   "outputs": [],
   "source": [
    "# Apply standard scaling on numeric data \n",
    "scaler = StandardScaler()\n",
    "scaler.fit(X_train[num_cols])\n",
    "X_train[num_cols] = scaler.transform(X_train[num_cols])"
   ]
  },
  {
   "cell_type": "code",
   "execution_count": 14,
   "id": "aefa1a80-55b8-4004-ab91-a263d53b6209",
   "metadata": {},
   "outputs": [
    {
     "data": {
      "text/html": [
       "<style>#sk-container-id-1 {color: black;}#sk-container-id-1 pre{padding: 0;}#sk-container-id-1 div.sk-toggleable {background-color: white;}#sk-container-id-1 label.sk-toggleable__label {cursor: pointer;display: block;width: 100%;margin-bottom: 0;padding: 0.3em;box-sizing: border-box;text-align: center;}#sk-container-id-1 label.sk-toggleable__label-arrow:before {content: \"▸\";float: left;margin-right: 0.25em;color: #696969;}#sk-container-id-1 label.sk-toggleable__label-arrow:hover:before {color: black;}#sk-container-id-1 div.sk-estimator:hover label.sk-toggleable__label-arrow:before {color: black;}#sk-container-id-1 div.sk-toggleable__content {max-height: 0;max-width: 0;overflow: hidden;text-align: left;background-color: #f0f8ff;}#sk-container-id-1 div.sk-toggleable__content pre {margin: 0.2em;color: black;border-radius: 0.25em;background-color: #f0f8ff;}#sk-container-id-1 input.sk-toggleable__control:checked~div.sk-toggleable__content {max-height: 200px;max-width: 100%;overflow: auto;}#sk-container-id-1 input.sk-toggleable__control:checked~label.sk-toggleable__label-arrow:before {content: \"▾\";}#sk-container-id-1 div.sk-estimator input.sk-toggleable__control:checked~label.sk-toggleable__label {background-color: #d4ebff;}#sk-container-id-1 div.sk-label input.sk-toggleable__control:checked~label.sk-toggleable__label {background-color: #d4ebff;}#sk-container-id-1 input.sk-hidden--visually {border: 0;clip: rect(1px 1px 1px 1px);clip: rect(1px, 1px, 1px, 1px);height: 1px;margin: -1px;overflow: hidden;padding: 0;position: absolute;width: 1px;}#sk-container-id-1 div.sk-estimator {font-family: monospace;background-color: #f0f8ff;border: 1px dotted black;border-radius: 0.25em;box-sizing: border-box;margin-bottom: 0.5em;}#sk-container-id-1 div.sk-estimator:hover {background-color: #d4ebff;}#sk-container-id-1 div.sk-parallel-item::after {content: \"\";width: 100%;border-bottom: 1px solid gray;flex-grow: 1;}#sk-container-id-1 div.sk-label:hover label.sk-toggleable__label {background-color: #d4ebff;}#sk-container-id-1 div.sk-serial::before {content: \"\";position: absolute;border-left: 1px solid gray;box-sizing: border-box;top: 0;bottom: 0;left: 50%;z-index: 0;}#sk-container-id-1 div.sk-serial {display: flex;flex-direction: column;align-items: center;background-color: white;padding-right: 0.2em;padding-left: 0.2em;position: relative;}#sk-container-id-1 div.sk-item {position: relative;z-index: 1;}#sk-container-id-1 div.sk-parallel {display: flex;align-items: stretch;justify-content: center;background-color: white;position: relative;}#sk-container-id-1 div.sk-item::before, #sk-container-id-1 div.sk-parallel-item::before {content: \"\";position: absolute;border-left: 1px solid gray;box-sizing: border-box;top: 0;bottom: 0;left: 50%;z-index: -1;}#sk-container-id-1 div.sk-parallel-item {display: flex;flex-direction: column;z-index: 1;position: relative;background-color: white;}#sk-container-id-1 div.sk-parallel-item:first-child::after {align-self: flex-end;width: 50%;}#sk-container-id-1 div.sk-parallel-item:last-child::after {align-self: flex-start;width: 50%;}#sk-container-id-1 div.sk-parallel-item:only-child::after {width: 0;}#sk-container-id-1 div.sk-dashed-wrapped {border: 1px dashed gray;margin: 0 0.4em 0.5em 0.4em;box-sizing: border-box;padding-bottom: 0.4em;background-color: white;}#sk-container-id-1 div.sk-label label {font-family: monospace;font-weight: bold;display: inline-block;line-height: 1.2em;}#sk-container-id-1 div.sk-label-container {text-align: center;}#sk-container-id-1 div.sk-container {/* jupyter's `normalize.less` sets `[hidden] { display: none; }` but bootstrap.min.css set `[hidden] { display: none !important; }` so we also need the `!important` here to be able to override the default hidden behavior on the sphinx rendered scikit-learn.org. See: https://github.com/scikit-learn/scikit-learn/issues/21755 */display: inline-block !important;position: relative;}#sk-container-id-1 div.sk-text-repr-fallback {display: none;}</style><div id=\"sk-container-id-1\" class=\"sk-top-container\"><div class=\"sk-text-repr-fallback\"><pre>LinearRegression()</pre><b>In a Jupyter environment, please rerun this cell to show the HTML representation or trust the notebook. <br />On GitHub, the HTML representation is unable to render, please try loading this page with nbviewer.org.</b></div><div class=\"sk-container\" hidden><div class=\"sk-item\"><div class=\"sk-estimator sk-toggleable\"><input class=\"sk-toggleable__control sk-hidden--visually\" id=\"sk-estimator-id-1\" type=\"checkbox\" checked><label for=\"sk-estimator-id-1\" class=\"sk-toggleable__label sk-toggleable__label-arrow\">LinearRegression</label><div class=\"sk-toggleable__content\"><pre>LinearRegression()</pre></div></div></div></div></div>"
      ],
      "text/plain": [
       "LinearRegression()"
      ]
     },
     "execution_count": 14,
     "metadata": {},
     "output_type": "execute_result"
    }
   ],
   "source": [
    "reg=LinearRegression()\n",
    "reg.fit(X_train, y_train)"
   ]
  },
  {
   "cell_type": "code",
   "execution_count": 15,
   "id": "9b05fa15-415a-4c5a-acc7-ecbd7de477a9",
   "metadata": {},
   "outputs": [
    {
     "data": {
      "text/plain": [
       "array([  165.65979194,    56.76497198,   208.06585774,   236.86277684,\n",
       "          83.25685656,   -44.59643341,    39.99927769, -2342.93988836,\n",
       "         947.04315641,   782.06586877,   565.64940065,   461.02516609,\n",
       "         857.27660648,   695.60698036,    50.25296923,   874.95408543,\n",
       "         652.68808672,  3414.51886161,   363.6015347 ,   -56.60924473,\n",
       "         207.93250347,   225.31289523,  -303.31070901,  -163.17479309])"
      ]
     },
     "execution_count": 15,
     "metadata": {},
     "output_type": "execute_result"
    }
   ],
   "source": [
    "reg.coef_\n"
   ]
  },
  {
   "cell_type": "code",
   "execution_count": 16,
   "id": "56f8a0a3-4308-4e97-8bb7-775c712cba52",
   "metadata": {},
   "outputs": [
    {
     "data": {
      "text/plain": [
       "6217.191524321198"
      ]
     },
     "execution_count": 16,
     "metadata": {},
     "output_type": "execute_result"
    }
   ],
   "source": [
    "reg.intercept_\n"
   ]
  },
  {
   "cell_type": "code",
   "execution_count": 17,
   "id": "c36fd5f6-087a-4367-a1f4-94cc2e708a20",
   "metadata": {},
   "outputs": [
    {
     "data": {
      "text/plain": [
       "860.2824526666652"
      ]
     },
     "execution_count": 17,
     "metadata": {},
     "output_type": "execute_result"
    }
   ],
   "source": [
    "mean_absolute_error(y_train,reg.predict(X_train))"
   ]
  },
  {
   "cell_type": "code",
   "execution_count": 18,
   "id": "0c93b20b-0f2c-4d2c-9657-5e0d3a1e1602",
   "metadata": {},
   "outputs": [
    {
     "data": {
      "text/plain": [
       "1213.5776158275949"
      ]
     },
     "execution_count": 18,
     "metadata": {},
     "output_type": "execute_result"
    }
   ],
   "source": [
    "mean_squared_error(y_train,reg.predict(X_train))**0.5"
   ]
  },
  {
   "cell_type": "code",
   "execution_count": 19,
   "id": "07488739-9768-4c9b-a41b-e02fec2bdf3e",
   "metadata": {},
   "outputs": [
    {
     "name": "stdout",
     "output_type": "stream",
     "text": [
      "857.8297790969871 1214.7842987127328\n"
     ]
    }
   ],
   "source": [
    "#Q1 and Q2\n",
    "X_test[num_cols] = scaler.transform(X_test[num_cols])\n",
    "y_pred = reg.predict(X_test)\n",
    "print(mean_absolute_error(y_test,y_pred), mean_squared_error(y_test,y_pred)**0.5)"
   ]
  },
  {
   "cell_type": "code",
   "execution_count": 20,
   "id": "d1acfe34-d747-4d24-be3e-86f8219b3ead",
   "metadata": {},
   "outputs": [
    {
     "data": {
      "text/html": [
       "<div>\n",
       "<style scoped>\n",
       "    .dataframe tbody tr th:only-of-type {\n",
       "        vertical-align: middle;\n",
       "    }\n",
       "\n",
       "    .dataframe tbody tr th {\n",
       "        vertical-align: top;\n",
       "    }\n",
       "\n",
       "    .dataframe thead th {\n",
       "        text-align: right;\n",
       "    }\n",
       "</style>\n",
       "<table border=\"1\" class=\"dataframe\">\n",
       "  <thead>\n",
       "    <tr style=\"text-align: right;\">\n",
       "      <th></th>\n",
       "      <th>job_years</th>\n",
       "      <th>is_manager</th>\n",
       "      <th>hours_per_week</th>\n",
       "      <th>telecommute_days_per_week</th>\n",
       "      <th>certifications</th>\n",
       "    </tr>\n",
       "  </thead>\n",
       "  <tbody>\n",
       "    <tr>\n",
       "      <th>count</th>\n",
       "      <td>1276.000000</td>\n",
       "      <td>1276.000000</td>\n",
       "      <td>1276.000000</td>\n",
       "      <td>1276.000000</td>\n",
       "      <td>1276.000000</td>\n",
       "    </tr>\n",
       "    <tr>\n",
       "      <th>mean</th>\n",
       "      <td>-0.035202</td>\n",
       "      <td>0.210815</td>\n",
       "      <td>-0.031022</td>\n",
       "      <td>-0.009640</td>\n",
       "      <td>0.498433</td>\n",
       "    </tr>\n",
       "    <tr>\n",
       "      <th>std</th>\n",
       "      <td>0.985957</td>\n",
       "      <td>0.408047</td>\n",
       "      <td>0.991713</td>\n",
       "      <td>0.973596</td>\n",
       "      <td>0.500194</td>\n",
       "    </tr>\n",
       "    <tr>\n",
       "      <th>min</th>\n",
       "      <td>-2.252083</td>\n",
       "      <td>0.000000</td>\n",
       "      <td>-2.202638</td>\n",
       "      <td>-0.625214</td>\n",
       "      <td>0.000000</td>\n",
       "    </tr>\n",
       "    <tr>\n",
       "      <th>25%</th>\n",
       "      <td>-0.642671</td>\n",
       "      <td>0.000000</td>\n",
       "      <td>-0.495707</td>\n",
       "      <td>-0.625214</td>\n",
       "      <td>0.000000</td>\n",
       "    </tr>\n",
       "    <tr>\n",
       "      <th>50%</th>\n",
       "      <td>0.070183</td>\n",
       "      <td>0.000000</td>\n",
       "      <td>-0.495707</td>\n",
       "      <td>-0.625214</td>\n",
       "      <td>0.000000</td>\n",
       "    </tr>\n",
       "    <tr>\n",
       "      <th>75%</th>\n",
       "      <td>0.249911</td>\n",
       "      <td>0.000000</td>\n",
       "      <td>0.138212</td>\n",
       "      <td>-0.024241</td>\n",
       "      <td>1.000000</td>\n",
       "    </tr>\n",
       "    <tr>\n",
       "      <th>max</th>\n",
       "      <td>2.751906</td>\n",
       "      <td>1.000000</td>\n",
       "      <td>2.349179</td>\n",
       "      <td>2.379650</td>\n",
       "      <td>1.000000</td>\n",
       "    </tr>\n",
       "  </tbody>\n",
       "</table>\n",
       "</div>"
      ],
      "text/plain": [
       "         job_years   is_manager  hours_per_week  telecommute_days_per_week  \\\n",
       "count  1276.000000  1276.000000     1276.000000                1276.000000   \n",
       "mean     -0.035202     0.210815       -0.031022                  -0.009640   \n",
       "std       0.985957     0.408047        0.991713                   0.973596   \n",
       "min      -2.252083     0.000000       -2.202638                  -0.625214   \n",
       "25%      -0.642671     0.000000       -0.495707                  -0.625214   \n",
       "50%       0.070183     0.000000       -0.495707                  -0.625214   \n",
       "75%       0.249911     0.000000        0.138212                  -0.024241   \n",
       "max       2.751906     1.000000        2.349179                   2.379650   \n",
       "\n",
       "       certifications  \n",
       "count     1276.000000  \n",
       "mean         0.498433  \n",
       "std          0.500194  \n",
       "min          0.000000  \n",
       "25%          0.000000  \n",
       "50%          0.000000  \n",
       "75%          1.000000  \n",
       "max          1.000000  "
      ]
     },
     "execution_count": 20,
     "metadata": {},
     "output_type": "execute_result"
    }
   ],
   "source": [
    "X_test.describe()"
   ]
  },
  {
   "cell_type": "code",
   "execution_count": 21,
   "id": "798684f1-416e-47f3-a955-8d2ecebc6ec6",
   "metadata": {},
   "outputs": [
    {
     "name": "stdout",
     "output_type": "stream",
     "text": [
      "858.2802110598824 1215.4131803285718\n"
     ]
    },
    {
     "data": {
      "text/plain": [
       "<matplotlib.legend.Legend at 0x1647e0a30>"
      ]
     },
     "execution_count": 21,
     "metadata": {},
     "output_type": "execute_result"
    },
    {
     "data": {
      "image/png": "[encoded data removed]",
      "text/plain": [
       "<Figure size 640x480 with 1 Axes>"
      ]
     },
     "metadata": {},
     "output_type": "display_data"
    }
   ],
   "source": [
    "#Q3\n",
    "ridge = Ridge(alpha=1)\n",
    "ridge.fit(X_train,y_train)\n",
    "y_pred = ridge.predict(X_test)\n",
    "print(mean_absolute_error(y_test,y_pred), mean_squared_error(y_test,y_pred)**0.5)\n",
    "\n",
    "plt.scatter(np.arange(len(np.sort(y_test))),np.sort(y_test), label='true')\n",
    "plt.scatter(np.arange(len(np.sort(y_pred))),np.sort(y_pred), label = 'pred')\n",
    "plt.legend()"
   ]
  },
  {
   "cell_type": "code",
   "execution_count": 22,
   "id": "a5586596-eac7-4dd3-9904-030a311ec3ef",
   "metadata": {},
   "outputs": [
    {
     "data": {
      "text/plain": [
       "array([  165.10570036,    58.50701345,   206.68082549,   237.34921262,\n",
       "          86.67889665,   -43.33182386,    31.79117069, -1188.04417046,\n",
       "         905.09661839,   744.17505784,   494.49138287,   423.60158128,\n",
       "         813.82929101,   653.60965823,    12.37463489,   417.76491042,\n",
       "         308.80025708,  1686.7267882 ,   362.77864121,   -52.97328733,\n",
       "         205.36705536,   219.32770555,  -298.05743126,  -161.96780653])"
      ]
     },
     "execution_count": 22,
     "metadata": {},
     "output_type": "execute_result"
    }
   ],
   "source": [
    "ridge.coef_"
   ]
  },
  {
   "cell_type": "code",
   "execution_count": 23,
   "id": "ad016749-793e-451a-8e29-25bcc1fafafa",
   "metadata": {},
   "outputs": [
    {
     "name": "stdout",
     "output_type": "stream",
     "text": [
      "860.2192250756023 1217.4301159306517\n"
     ]
    },
    {
     "data": {
      "text/plain": [
       "<matplotlib.collections.PathCollection at 0x1648d31f0>"
      ]
     },
     "execution_count": 23,
     "metadata": {},
     "output_type": "execute_result"
    },
    {
     "data": {
      "image/png": "[encoded data removed]",
      "text/plain": [
       "<Figure size 640x480 with 1 Axes>"
      ]
     },
     "metadata": {},
     "output_type": "display_data"
    }
   ],
   "source": [
    "lasso = Lasso(alpha=1)\n",
    "lasso.fit(X_train,y_train)\n",
    "y_pred = lasso.predict(X_test)\n",
    "print(mean_absolute_error(y_test,y_pred), mean_squared_error(y_test,y_pred)**0.5)\n",
    "\n",
    "plt.scatter(np.arange(len(np.sort(y_test))),np.sort(y_test))\n",
    "plt.scatter(np.arange(len(np.sort(y_pred))),np.sort(y_pred))"
   ]
  },
  {
   "cell_type": "code",
   "execution_count": 24,
   "id": "385f52c5-8c52-4138-8f79-2574f7b5368a",
   "metadata": {},
   "outputs": [
    {
     "data": {
      "text/plain": [
       "array([ 164.15540784,   57.67589763,  204.89988992,  236.59986097,\n",
       "         86.93901919,  -11.13542456,    0.        ,   -0.        ,\n",
       "        811.2569117 ,  659.34292   ,  235.32236946,  336.82495771,\n",
       "        714.65972831,  561.21884177,   -4.82307758,    0.        ,\n",
       "          0.        ,  324.55643463,  346.38538605,   -0.        ,\n",
       "        184.6520091 ,  167.49924684, -253.98076135, -150.67568405])"
      ]
     },
     "execution_count": 24,
     "metadata": {},
     "output_type": "execute_result"
    }
   ],
   "source": [
    "lasso.coef_"
   ]
  },
  {
   "cell_type": "markdown",
   "id": "e47a9089-9b5c-434b-8c2a-ab2784270f7c",
   "metadata": {},
   "source": [
    "## Question 2"
   ]
  },
  {
   "cell_type": "markdown",
   "id": "385cadf1-348a-4a3d-8a73-adf21b17dec2",
   "metadata": {},
   "source": [
    "1. Compute errors on test sets\n",
    "\n",
    "2. Play with different parameter of decision trees and random forests and see the impact on train and test error\n",
    "\n",
    "3. [OPTIONAL] implement cross validation and get best hyperparameters"
   ]
  },
  {
   "cell_type": "code",
   "execution_count": 27,
   "id": "e8805dcc-73b4-4539-83fb-aa83047088c7",
   "metadata": {},
   "outputs": [
    {
     "data": {
      "text/plain": [
       "617.9315208167388"
      ]
     },
     "execution_count": 27,
     "metadata": {},
     "output_type": "execute_result"
    }
   ],
   "source": [
    "# train Decision Tree regression model\n",
    "decisiontree = DecisionTreeRegressor(max_depth = 10, min_samples_split = 5)\n",
    "decisiontree.fit(X_train, y_train)\n",
    "\n",
    "#evaluating train error\n",
    "mean_absolute_error(y_train,decisiontree.predict(X_train))"
   ]
  },
  {
   "cell_type": "code",
   "execution_count": 31,
   "id": "74152c7a-64b7-4fd5-b35f-d93cdabe4586",
   "metadata": {},
   "outputs": [
    {
     "data": {
      "text/plain": [
       "867.1817531197617"
      ]
     },
     "execution_count": 31,
     "metadata": {},
     "output_type": "execute_result"
    }
   ],
   "source": [
    "mean_absolute_error(y_test,decisiontree.predict(X_test))"
   ]
  },
  {
   "cell_type": "code",
   "execution_count": 32,
   "id": "b380093d-829d-49c9-8dba-6c31364d9237",
   "metadata": {},
   "outputs": [
    {
     "data": {
      "text/plain": [
       "<matplotlib.legend.Legend at 0x165317b80>"
      ]
     },
     "execution_count": 32,
     "metadata": {},
     "output_type": "execute_result"
    },
    {
     "data": {
      "image/png": "[encoded data removed]",
      "text/plain": [
       "<Figure size 640x480 with 1 Axes>"
      ]
     },
     "metadata": {},
     "output_type": "display_data"
    }
   ],
   "source": [
    "max_depth_list = [2,3,4,5,6,7,8,9,10,11,12,20]\n",
    "train_error = []\n",
    "test_error =[]\n",
    "\n",
    "for md in max_depth_list:\n",
    "\n",
    "    decisiontree = DecisionTreeRegressor(max_depth = md, min_samples_split = 2)\n",
    "    decisiontree.fit(X_train, y_train)\n",
    "    train_error.append(mean_absolute_error(y_train,decisiontree.predict(X_train)))\n",
    "    test_error.append(mean_absolute_error(y_test,decisiontree.predict(X_test)))\n",
    "\n",
    "plt.plot(max_depth_list,train_error,label = 'train error')\n",
    "plt.plot(max_depth_list,test_error,label = 'test error')\n",
    "plt.legend()"
   ]
  },
  {
   "cell_type": "code",
   "execution_count": 33,
   "id": "0d133979-86a1-4fee-873b-141a364fb944",
   "metadata": {},
   "outputs": [
    {
     "data": {
      "text/plain": [
       "394.28608452173364"
      ]
     },
     "execution_count": 33,
     "metadata": {},
     "output_type": "execute_result"
    }
   ],
   "source": [
    "# Fitting a Random Forest Regressor\n",
    "randomf = RandomForestRegressor()\n",
    "randomf.fit(X_train, y_train)\n",
    "mean_absolute_error(y_train,randomf.predict(X_train))"
   ]
  },
  {
   "cell_type": "code",
   "execution_count": 34,
   "id": "f34bb9a0-c6f4-4af0-b82e-16d9d8d88222",
   "metadata": {},
   "outputs": [
    {
     "data": {
      "text/plain": [
       "796.831478449925"
      ]
     },
     "execution_count": 34,
     "metadata": {},
     "output_type": "execute_result"
    }
   ],
   "source": [
    "mean_absolute_error(y_test,randomf.predict(X_test))"
   ]
  },
  {
   "cell_type": "code",
   "execution_count": 35,
   "id": "4788b104-c52a-44e0-ba56-e44fc748db07",
   "metadata": {},
   "outputs": [
    {
     "data": {
      "text/plain": [
       "<matplotlib.legend.Legend at 0x1651ec910>"
      ]
     },
     "execution_count": 35,
     "metadata": {},
     "output_type": "execute_result"
    },
    {
     "data": {
      "image/png": "[encoded data removed]",
      "text/plain": [
       "<Figure size 640x480 with 1 Axes>"
      ]
     },
     "metadata": {},
     "output_type": "display_data"
    }
   ],
   "source": [
    "max_depth_list = [10,11,12,13,14,15,16,17,18,19,20]\n",
    "train_error = []\n",
    "test_error =[]\n",
    "N_estimator=[20,30,40,50,60,70,80,90,100]\n",
    "for n in N_estimator:\n",
    "\n",
    "    decisiontree = RandomForestRegressor(n_estimators=n, max_depth = 12, min_samples_split = 2)\n",
    "    decisiontree.fit(X_train, y_train)\n",
    "    train_error.append(mean_absolute_error(y_train,decisiontree.predict(X_train)))\n",
    "    test_error.append(mean_absolute_error(y_test,decisiontree.predict(X_test)))\n",
    "\n",
    "plt.plot(N_estimator,train_error,marker='o',label = 'train error')\n",
    "plt.plot(N_estimator,test_error,marker='o',label = 'test error')\n",
    "plt.legend()"
   ]
  },
  {
   "cell_type": "code",
   "execution_count": 36,
   "id": "dd9cdb0b-3ac1-4bdd-abda-d48d2fae2e74",
   "metadata": {},
   "outputs": [
    {
     "data": {
      "text/html": [
       "<div>\n",
       "<style scoped>\n",
       "    .dataframe tbody tr th:only-of-type {\n",
       "        vertical-align: middle;\n",
       "    }\n",
       "\n",
       "    .dataframe tbody tr th {\n",
       "        vertical-align: top;\n",
       "    }\n",
       "\n",
       "    .dataframe thead th {\n",
       "        text-align: right;\n",
       "    }\n",
       "</style>\n",
       "<table border=\"1\" class=\"dataframe\">\n",
       "  <thead>\n",
       "    <tr style=\"text-align: right;\">\n",
       "      <th></th>\n",
       "      <th>feature</th>\n",
       "      <th>importance</th>\n",
       "    </tr>\n",
       "  </thead>\n",
       "  <tbody>\n",
       "    <tr>\n",
       "      <th>0</th>\n",
       "      <td>job_years</td>\n",
       "      <td>26.855896</td>\n",
       "    </tr>\n",
       "    <tr>\n",
       "      <th>2</th>\n",
       "      <td>hours_per_week</td>\n",
       "      <td>16.280321</td>\n",
       "    </tr>\n",
       "    <tr>\n",
       "      <th>3</th>\n",
       "      <td>telecommute_days_per_week</td>\n",
       "      <td>9.140915</td>\n",
       "    </tr>\n",
       "    <tr>\n",
       "      <th>4</th>\n",
       "      <td>certifications</td>\n",
       "      <td>7.059995</td>\n",
       "    </tr>\n",
       "    <tr>\n",
       "      <th>23</th>\n",
       "      <td>is_education_computer_related_Yes</td>\n",
       "      <td>6.323166</td>\n",
       "    </tr>\n",
       "    <tr>\n",
       "      <th>1</th>\n",
       "      <td>is_manager</td>\n",
       "      <td>5.288329</td>\n",
       "    </tr>\n",
       "    <tr>\n",
       "      <th>18</th>\n",
       "      <td>education_Bachelors (4 years)</td>\n",
       "      <td>4.631981</td>\n",
       "    </tr>\n",
       "    <tr>\n",
       "      <th>9</th>\n",
       "      <td>job_title_DBA</td>\n",
       "      <td>4.290869</td>\n",
       "    </tr>\n",
       "    <tr>\n",
       "      <th>20</th>\n",
       "      <td>education_Masters</td>\n",
       "      <td>3.756742</td>\n",
       "    </tr>\n",
       "    <tr>\n",
       "      <th>11</th>\n",
       "      <td>job_title_Developer</td>\n",
       "      <td>3.363502</td>\n",
       "    </tr>\n",
       "    <tr>\n",
       "      <th>21</th>\n",
       "      <td>education_None (no degree completed)</td>\n",
       "      <td>2.569396</td>\n",
       "    </tr>\n",
       "    <tr>\n",
       "      <th>8</th>\n",
       "      <td>job_title_Architect</td>\n",
       "      <td>2.312057</td>\n",
       "    </tr>\n",
       "    <tr>\n",
       "      <th>22</th>\n",
       "      <td>is_education_computer_related_Unknown</td>\n",
       "      <td>2.248845</td>\n",
       "    </tr>\n",
       "    <tr>\n",
       "      <th>13</th>\n",
       "      <td>job_title_Manager</td>\n",
       "      <td>1.429436</td>\n",
       "    </tr>\n",
       "    <tr>\n",
       "      <th>5</th>\n",
       "      <td>employment_status_Independent or freelancer or...</td>\n",
       "      <td>1.388214</td>\n",
       "    </tr>\n",
       "    <tr>\n",
       "      <th>12</th>\n",
       "      <td>job_title_Engineer</td>\n",
       "      <td>1.310111</td>\n",
       "    </tr>\n",
       "    <tr>\n",
       "      <th>19</th>\n",
       "      <td>education_Doctorate/PhD</td>\n",
       "      <td>0.596115</td>\n",
       "    </tr>\n",
       "    <tr>\n",
       "      <th>14</th>\n",
       "      <td>job_title_Other</td>\n",
       "      <td>0.545466</td>\n",
       "    </tr>\n",
       "    <tr>\n",
       "      <th>10</th>\n",
       "      <td>job_title_Data Scientist</td>\n",
       "      <td>0.365503</td>\n",
       "    </tr>\n",
       "    <tr>\n",
       "      <th>7</th>\n",
       "      <td>job_title_Analytics consultant</td>\n",
       "      <td>0.119846</td>\n",
       "    </tr>\n",
       "    <tr>\n",
       "      <th>17</th>\n",
       "      <td>job_title_Sr Consultant</td>\n",
       "      <td>0.098037</td>\n",
       "    </tr>\n",
       "    <tr>\n",
       "      <th>6</th>\n",
       "      <td>employment_status_Part time</td>\n",
       "      <td>0.023728</td>\n",
       "    </tr>\n",
       "    <tr>\n",
       "      <th>16</th>\n",
       "      <td>job_title_Sales</td>\n",
       "      <td>0.001101</td>\n",
       "    </tr>\n",
       "    <tr>\n",
       "      <th>15</th>\n",
       "      <td>job_title_Principal database engineer</td>\n",
       "      <td>0.000430</td>\n",
       "    </tr>\n",
       "  </tbody>\n",
       "</table>\n",
       "</div>"
      ],
      "text/plain": [
       "                                              feature  importance\n",
       "0                                           job_years   26.855896\n",
       "2                                      hours_per_week   16.280321\n",
       "3                           telecommute_days_per_week    9.140915\n",
       "4                                      certifications    7.059995\n",
       "23                  is_education_computer_related_Yes    6.323166\n",
       "1                                          is_manager    5.288329\n",
       "18                      education_Bachelors (4 years)    4.631981\n",
       "9                                       job_title_DBA    4.290869\n",
       "20                                  education_Masters    3.756742\n",
       "11                                job_title_Developer    3.363502\n",
       "21               education_None (no degree completed)    2.569396\n",
       "8                                 job_title_Architect    2.312057\n",
       "22              is_education_computer_related_Unknown    2.248845\n",
       "13                                  job_title_Manager    1.429436\n",
       "5   employment_status_Independent or freelancer or...    1.388214\n",
       "12                                 job_title_Engineer    1.310111\n",
       "19                            education_Doctorate/PhD    0.596115\n",
       "14                                    job_title_Other    0.545466\n",
       "10                           job_title_Data Scientist    0.365503\n",
       "7                      job_title_Analytics consultant    0.119846\n",
       "17                           job_title_Sr Consultant     0.098037\n",
       "6                         employment_status_Part time    0.023728\n",
       "16                                    job_title_Sales    0.001101\n",
       "15              job_title_Principal database engineer    0.000430"
      ]
     },
     "execution_count": 36,
     "metadata": {},
     "output_type": "execute_result"
    }
   ],
   "source": [
    "pd.DataFrame({'feature':X_train.columns, \"importance\":randomf.feature_importances_*100}).sort_values(by='importance', ascending=False)\n"
   ]
  },
  {
   "cell_type": "code",
   "execution_count": null,
   "id": "5b658320-13b0-4c6f-921f-cd7af0447a82",
   "metadata": {},
   "outputs": [],
   "source": []
  }
 ],
 "metadata": {
  "kernelspec": {
   "display_name": "Python 3 (ipykernel)",
   "language": "python",
   "name": "python3"
  },
  "language_info": {
   "codemirror_mode": {
    "name": "ipython",
    "version": 3
   },
   "file_extension": ".py",
   "mimetype": "text/x-python",
   "name": "python",
   "nbconvert_exporter": "python",
   "pygments_lexer": "ipython3",
   "version": "3.9.6"
  }
 },
 "nbformat": 4,
 "nbformat_minor": 5
}
